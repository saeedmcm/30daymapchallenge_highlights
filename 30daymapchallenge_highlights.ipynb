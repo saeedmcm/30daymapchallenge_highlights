{
 "cells": [
  {
   "cell_type": "markdown",
   "id": "389349bc",
   "metadata": {},
   "source": [
    "# 🗺️ Geospatial Data Visualizations with Python\n",
    "\n",
    "## Project Overview\n",
    "\n",
    "This notebook contains a collection of map-based data visualizations created using Python. It showcases the use of mapping libraries to display spatial patterns and insights from various datasets.\n",
    "\n",
    "These visualizations are part of a broader data visualization project (#30daymapchallenge) which was published in my LinkedIn account."
   ]
  },
  {
   "cell_type": "markdown",
   "id": "36ceda8b",
   "metadata": {},
   "source": [
    "## 📦 Importing Libraries and Setup\n",
    "Set up the environment and import all necessary packages."
   ]
  },
  {
   "cell_type": "code",
   "execution_count": null,
   "id": "521ae0b9",
   "metadata": {},
   "outputs": [],
   "source": [
    "# ===========================\n",
    "# 📦 Installation (Colab only)\n",
    "# ===========================\n",
    "# Run these only if you're on Google Colab\n",
    "!pip install -q keplergl osmnx networkx rtree h3 contextily cairosvg\n",
    "\n",
    "# ===========================\n",
    "# 📚 Import Libraries\n",
    "# ===========================\n",
    "\n",
    "# Data Processing\n",
    "import pandas as pd\n",
    "import numpy as np\n",
    "import geopandas as gpd\n",
    "import xarray as xr\n",
    "import json\n",
    "import requests\n",
    "import warnings\n",
    "warnings.filterwarnings('ignore')\n",
    "\n",
    "# Spatial Tools\n",
    "import shapely\n",
    "from shapely.geometry import Point, LineString, Polygon, mapping\n",
    "from shapely.ops import transform\n",
    "import rtree\n",
    "import h3\n",
    "import pyproj\n",
    "\n",
    "# Visualization\n",
    "import matplotlib.pyplot as plt\n",
    "import matplotlib.colors as mcolors\n",
    "import seaborn as sns\n",
    "import contextily as ctx\n",
    "import ipywidgets as widgets\n",
    "\n",
    "# Interactive Mapping\n",
    "import folium\n",
    "from folium.plugins import HeatMap, MarkerCluster\n",
    "from branca.colormap import linear\n",
    "from keplergl import KeplerGl\n",
    "\n",
    "# Network & Routing\n",
    "import networkx as nx\n",
    "import osmnx as ox\n",
    "ox.config(log_console=True, use_cache=True)\n",
    "\n",
    "# PIL and miscellaneous\n",
    "from PIL import Image\n",
    "import base64\n",
    "import tempfile\n",
    "import urllib\n",
    "\n",
    "# Google Colab settings (optional)\n",
    "try:\n",
    "    from google.colab import output\n",
    "    output.enable_custom_widget_manager()\n",
    "except:\n",
    "    pass\n",
    "\n",
    "# Inline plotting for Jupyter\n",
    "%matplotlib inline\n"
   ]
  },
  {
   "cell_type": "markdown",
   "id": "469af834",
   "metadata": {},
   "source": [
    "## **Day 2: Lines**"
   ]
  },
  {
   "cell_type": "code",
   "execution_count": null,
   "id": "74081dab",
   "metadata": {},
   "outputs": [],
   "source": [
    "# # download and project Manhattan's street network\n",
    "G = ox.graph_from_place('Manhattan, New York, USA', network_type='drive')\n",
    "G = ox.project_graph(G)\n",
    "fig, ax = ox.plot_graph(G, bgcolor='k', node_size=0.5, node_color='Gold', node_edgecolor='none', node_zorder=2,\n",
    "edge_color='w', edge_linewidth=0.3, edge_alpha=1)"
   ]
  },
  {
   "cell_type": "markdown",
   "id": "f5508911",
   "metadata": {},
   "source": [
    "- Calculate and visualize edge centrality"
   ]
  },
  {
   "cell_type": "code",
   "execution_count": null,
   "id": "18077d07",
   "metadata": {},
   "outputs": [],
   "source": [
    "# edge closeness centrality: convert graph to a line graph so edges become nodes and vice versa\n",
    "edge_centrality = nx.closeness_centrality(nx.line_graph(G))"
   ]
  },
  {
   "cell_type": "code",
   "execution_count": null,
   "id": "626bf9c0",
   "metadata": {},
   "outputs": [],
   "source": [
    "# List of edge values for the original graph\n",
    "ev = [edge_centrality[edge + (0,)] for edge in G.edges()]\n",
    "# Color scale converted to list of colors for graph edges\n",
    "norm = mcolors.Normalize(vmin=min(ev) * 0.5, vmax=max(ev))\n",
    "cmap = cm.ScalarMappable(norm=norm, cmap=cm.inferno)\n",
    "ec = [cmap.to_rgba(cl) for cl in ev]\n",
    "# Color the edges in the original graph with closeness centralities in the line graph\n",
    "fig, ax = ox.plot_graph(G, bgcolor='k', node_size=0, node_color='w', node_edgecolor='gray', node_zorder=2,\n",
    "edge_color=ec, edge_linewidth=0.7, edge_alpha=1)\n",
    "# Turn off axis\n",
    "ax.set_axis_off()\n",
    "# Show the plot\n",
    "plt.show()"
   ]
  },
  {
   "cell_type": "markdown",
   "id": "fd87ea26",
   "metadata": {},
   "source": [
    "## **Day 7: Navigation**"
   ]
  },
  {
   "cell_type": "code",
   "execution_count": null,
   "id": "d02b69a3",
   "metadata": {},
   "outputs": [],
   "source": [
    "# Define the location (Amsterdam)\n",
    "place_name = \"Amsterdam, Netherlands\"\n",
    "# Fetch the bike network graph for the specified location\n",
    "G = ox.graph_from_place(place_name, network_type='bike')"
   ]
  },
  {
   "cell_type": "code",
   "execution_count": null,
   "id": "78dba7cb",
   "metadata": {},
   "outputs": [],
   "source": [
    "# Set central location to the Van Gogh Museum coordinates\n",
    "central_location = (52.3581, 4.8812)  # Latitude, Longitude\n",
    "# Define the bike distance in 15 minutes\n",
    "dist = 3500  # This should be in meters, approximately 15 minutes of biking\n",
    "# Calculate the reachable locations within the given time\n",
    "reachable_graph = ox.graph_from_point(\n",
    "central_location, dist=dist, network_type=\"bike\", dist_type='network'\n",
    ")\n",
    "# Create a GeoDataFrame from the reachable graph\n",
    "reachable_edge = ox.graph_to_gdfs(reachable_graph, nodes=False, edges=True)"
   ]
  },
  {
   "cell_type": "code",
   "execution_count": null,
   "id": "0af1938e",
   "metadata": {},
   "outputs": [],
   "source": [
    "# Create a GeoDataFrame from the reachable graph\n",
    "amsterdam_edge = ox.graph_to_gdfs(G, nodes=False, edges=True)"
   ]
  },
  {
   "cell_type": "code",
   "execution_count": null,
   "id": "17f5c255",
   "metadata": {},
   "outputs": [],
   "source": [
    "# Load the base map of Amsterdam\n",
    "amsterdam_map = folium.Map(location=central_location, zoom_start=12, tiles=\"CartoDB Dark_Matter\")\n",
    "# Define a style function to make the lines thinner\n",
    "def style_function(feature):\n",
    "return {\n",
    "'color': 'orange',  # Line color\n",
    "'weight': 1,      # Line weight\n",
    "}\n",
    "# Define a base function to make the lines thinner\n",
    "def base_function(feature):\n",
    "return {\n",
    "'color': 'white',  # Line color\n",
    "'weight': 0.5,      # Line weight\n",
    "}\n",
    "# Plot the GeoDataFrame on the map with the updated style\n",
    "gdf_layer = folium.GeoJson(amsterdam_edge, style_function=base_function).add_to(amsterdam_map)\n",
    "# Plot the GeoDataFrame on the map with the updated style\n",
    "gdf_layer = folium.GeoJson(reachable_edge, style_function=style_function).add_to(amsterdam_map)\n",
    "# Create a custom icon using your custom picture\n",
    "icon = folium.CustomIcon(\n",
    "icon_image='/content/image-from-rawpixel-id-6739881-png.png', #Upload a PNG for Van Gogh's icon image in the map\n",
    "icon_size=(40, 40),  # Adjust the size\n",
    ")\n",
    "# Add the custom icon to the map at a specific location\n",
    "marker_location = Point(4.8812, 52.3581)  # Longitude, Latitude\n",
    "marker = folium.Marker(\n",
    "location=[marker_location.y, marker_location.x],\n",
    "popup=\"Van Gogh Museum\",\n",
    "icon=icon,\n",
    ")\n",
    "marker.add_to(amsterdam_map)\n",
    "# Display the map\n",
    "#amsterdam_map.save(\"amsterdam_map.html\")\n",
    "amsterdam_map"
   ]
  },
  {
   "cell_type": "markdown",
   "id": "1f06f2d8",
   "metadata": {},
   "source": [
    "## **Day 8: Africa**"
   ]
  },
  {
   "cell_type": "code",
   "execution_count": null,
   "id": "d7967e2a",
   "metadata": {},
   "outputs": [],
   "source": [
    "urbtrend= pd.read_excel(\"https://datacatalogfiles.worldbank.org/ddh-published/0060310/DR0084587/WB-SMSUA_DLR_UrbTrends_v01.xlsx\")"
   ]
  },
  {
   "cell_type": "code",
   "execution_count": null,
   "id": "e74b0f85",
   "metadata": {},
   "outputs": [],
   "source": [
    "urbcenter= pd.read_excel(\"https://datacatalogfiles.worldbank.org/ddh-published/0060310/DR0084441/WB-SMSUA_DLR_%20UrbanCenters_v08.xlsx\")"
   ]
  },
  {
   "cell_type": "markdown",
   "id": "02b83ad7",
   "metadata": {},
   "source": [
    "- Data Source: https://datacatalogfiles.worldbank.org/ddh-published/0060310/DR0084581/UrbanClusters.zip"
   ]
  },
  {
   "cell_type": "code",
   "execution_count": null,
   "id": "d60b25af",
   "metadata": {},
   "outputs": [],
   "source": [
    "gdf= gpd.read_file(\"/content/UC_v8_WB.shp\")"
   ]
  },
  {
   "cell_type": "code",
   "execution_count": null,
   "id": "275b6ee2",
   "metadata": {},
   "outputs": [],
   "source": [
    "# Create a base map centered at Palo Alto\n",
    "africa = folium.Map(location=[8.7832, 34.5085], zoom_start=4)\n",
    "# Convert the data into a list of (latitude, longitude, value) tuples\n",
    "heatmap_data = [\n",
    "(row['geometry'], row['Population']) for index, row in gdf.iterrows()\n",
    "]\n",
    "# Determine the range of values for the colorbar\n",
    "min_value = min(heatmap_data, key=lambda x: x[1])[1]\n",
    "max_value = max(heatmap_data, key=lambda x: x[1])[1]\n",
    "# Create a heatmap layer with default colormap\n",
    "heatmap_layer = HeatMap(heatmap_data, radius=20, blur=15)\n",
    "heatmap_layer.add_to(pcmap)\n",
    "heatmap_layer.layer_name = 'Heatmap of Frequent Events'\n",
    "# Add colorbar legend\n",
    "colormap_caption = 'Events per Day'\n",
    "colormap = folium.LinearColormap(colors=['steelblue', 'lime', 'yellow', 'orange', 'red'], vmin=min_value, vmax=max_value)\n",
    "colormap.caption = colormap_caption\n",
    "pcmap.add_child(colormap)\n",
    "# Create a feature group for the markers\n",
    "marker_group = folium.FeatureGroup(name='Postal Code Markers')\n",
    "# Iterate over postal codes and add markers with pop-up information\n",
    "for index, row in pc_total_events.iterrows():\n",
    "postal_code = row['postal_code']\n",
    "events = row['Event_p_Day']\n",
    "latitude = row['latitude']\n",
    "longitude = row['longitude']\n",
    "color = colormap(events)\n",
    "# Create the marker\n",
    "marker = folium.CircleMarker(\n",
    "[latitude, longitude], radius=6, color=color, fill=True, fill_color=color,opacity=0.001, fill_opacity=0.001,\n",
    "popup=f'Postal Code: {postal_code}, Avg Events per Day: {events}').add_to(marker_group)\n",
    "# Add the marker group to the map, but keep it initially hidden\n",
    "marker_group.add_to(pcmap)\n",
    "marker_group.layer_name = 'Postal Code Popup'\n",
    "# Add a layer control to toggle visibility of the layers\n",
    "layer_control = folium.LayerControl(collapsed=False).add_to(pcmap)\n",
    "# Show map\n",
    "pcmap"
   ]
  },
  {
   "cell_type": "markdown",
   "id": "01e4b5fd",
   "metadata": {},
   "source": [
    "## **Day 9: Hexagons**"
   ]
  },
  {
   "cell_type": "code",
   "execution_count": null,
   "id": "7991fee9",
   "metadata": {},
   "outputs": [],
   "source": [
    "#Functions\n",
    "def plot_scatter(df, metric_col, x='lng', y='lat', marker='.', alpha=1, figsize=(16,12), colormap='viridis'):\n",
    "df.plot.scatter(x=x, y=y, c=metric_col, title=metric_col\n",
    ", edgecolors='none', colormap=colormap, marker=marker, alpha=alpha, figsize=figsize);\n",
    "plt.xticks([], []); plt.yticks([], [])\n",
    "def aperture_downsampling(df, hex_col, metric_col, coarse_aperture_size):\n",
    "df_coarse = df.copy()\n",
    "coarse_hex_col = 'hex{}'.format(coarse_aperture_size)\n",
    "df_coarse[coarse_hex_col] = df_coarse[hex_col].apply(lambda x: h3.h3_to_parent(x,coarse_aperture_size))\n",
    "dfc = df_coarse.groupby([coarse_hex_col])[[metric_col,]].mean().reset_index()\n",
    "dfc['lat'] = dfc[coarse_hex_col].apply(lambda x: h3.h3_to_geo(x)[0])\n",
    "dfc['lng'] = dfc[coarse_hex_col].apply(lambda x: h3.h3_to_geo(x)[1])\n",
    "return dfc\n",
    "def kring_smoothing(df, hex_col, metric_col, k):\n",
    "dfk = df[[hex_col]]\n",
    "dfk.index = dfk[hex_col]\n",
    "dfs =  (dfk[hex_col]\n",
    ".apply(lambda x: pd.Series(list(h3.k_ring(x,k)))).stack()\n",
    ".to_frame('hexk').reset_index(1, drop=True).reset_index()\n",
    ".merge(df[[hex_col,metric_col]]).fillna(0)\n",
    ".groupby(['hexk'])[[metric_col]].sum().divide((1 + 3 * k * (k + 1)))\n",
    ".reset_index()\n",
    ".rename(index=str, columns={\"hexk\": hex_col}))\n",
    "dfs['lat'] = dfs[hex_col].apply(lambda x: h3.h3_to_geo(x)[0])\n",
    "dfs['lng'] = dfs[hex_col].apply(lambda x: h3.h3_to_geo(x)[1])\n",
    "return dfs\n",
    "def weighted_kring_smoothing(df, hex_col, metric_col, coef):\n",
    "# normalize the coef\n",
    "a = []\n",
    "for k, coe in enumerate(coef):\n",
    "if k == 0:\n",
    "a.append(coe)\n",
    "else:\n",
    "a.append(k * 6 * coe)\n",
    "coef = [c / sum(a) for c in coef]\n",
    "# weighted smoothing\n",
    "df_agg = df[[hex_col]]\n",
    "df_agg['hexk'] = df_agg[hex_col]\n",
    "df_agg.set_index(hex_col,inplace=True)\n",
    "temp2 = [df_agg['hexk'].reset_index()]\n",
    "temp2[-1]['k'] = 0\n",
    "K=len(coef)-1\n",
    "for k in range(1,K+1):\n",
    "temp2.append((df_agg['hexk']\n",
    ".apply(lambda x: pd.Series(list(h3.hex_ring(x,k)))).stack()\n",
    ".to_frame('hexk').reset_index(1, drop=True).reset_index()\n",
    "))\n",
    "temp2[-1]['k'] = k\n",
    "df_all = pd.concat(temp2).merge(df)\n",
    "df_all[metric_col] = df_all[metric_col]*df_all.k.apply(lambda x:coef[x])\n",
    "dfs = df_all.groupby('hexk')[[metric_col]].sum().reset_index().rename(index=str, columns={\"hexk\": hex_col})\n",
    "dfs['lat'] = dfs[hex_col].apply(lambda x: h3.h3_to_geo(x)[0])\n",
    "dfs['lng'] = dfs[hex_col].apply(lambda x: h3.h3_to_geo(x)[1])\n",
    "return dfs"
   ]
  },
  {
   "cell_type": "code",
   "execution_count": null,
   "id": "35611311",
   "metadata": {},
   "outputs": [],
   "source": [
    "crime= pd.read_csv('https://data.cityofchicago.org/api/views/ijzp-q8t2/rows.csv?date=20231109&accessType=DOWNLOAD')"
   ]
  },
  {
   "cell_type": "code",
   "execution_count": null,
   "id": "b56f97ae",
   "metadata": {},
   "outputs": [],
   "source": [
    "dfcrime= crime[[\"Latitude\",\t\"Longitude\"]]"
   ]
  },
  {
   "cell_type": "code",
   "execution_count": null,
   "id": "7be993fc",
   "metadata": {},
   "outputs": [],
   "source": [
    "dfcrime= dfcrime.dropna()"
   ]
  },
  {
   "cell_type": "code",
   "execution_count": null,
   "id": "46745a6c",
   "metadata": {},
   "outputs": [],
   "source": [
    "dfcrime= dfcrime[dfcrime[\"Latitude\"] > 41]"
   ]
  },
  {
   "cell_type": "code",
   "execution_count": null,
   "id": "febcb060",
   "metadata": {},
   "outputs": [],
   "source": [
    "# Visualize the crash points\n",
    "dfcrime.plot(x='Latitude',y='Longitude',style='.',alpha=1,figsize=(12,12))\n",
    "plt.title('Sample Points: Crime Locations')"
   ]
  },
  {
   "cell_type": "code",
   "execution_count": null,
   "id": "922c5259",
   "metadata": {},
   "outputs": [],
   "source": [
    "def plot_scatter(df, metric_col, x='Latitude', y='Longitude', marker='.', alpha=1, figsize=(16,12), colormap='coolwarm'):\n",
    "df.plot.scatter(x=x, y=y, c=metric_col, title=metric_col\n",
    ", edgecolors='none', colormap=colormap, marker=marker, alpha=alpha, figsize=figsize);\n",
    "plt.xticks([], []); plt.yticks([], [])"
   ]
  },
  {
   "cell_type": "code",
   "execution_count": null,
   "id": "4d9babb7",
   "metadata": {},
   "outputs": [],
   "source": [
    "APERTURE_SIZE = 9\n",
    "hex_col = 'hex'+str(APERTURE_SIZE)\n",
    "# find hexs containing the points\n",
    "dfcrime[hex_col] = dfcrime.apply(lambda x: h3.geo_to_h3(x.Latitude,x.Longitude,APERTURE_SIZE),1)\n",
    "# aggregate the points\n",
    "dfcrimeg = dfcrime.groupby(hex_col).size().to_frame('cnt').reset_index()\n",
    "#find center of hex for visualization\n",
    "dfcrimeg['Latitude'] = dfcrimeg[hex_col].apply(lambda x: h3.h3_to_geo(x)[0])\n",
    "dfcrimeg['Longitude'] = dfcrimeg[hex_col].apply(lambda x: h3.h3_to_geo(x)[1])\n",
    "# pltot the hexs\n",
    "plot_scatter(dfcrimeg, metric_col='cnt', marker='o',figsize=(17,15))\n",
    "plt.title('hex-grid: Traffic Crashes')"
   ]
  },
  {
   "cell_type": "code",
   "execution_count": null,
   "id": "de37de03",
   "metadata": {},
   "outputs": [],
   "source": [
    "def plot_smooth_scatter(df, metric_col, x='lat', y='lng', marker='.', alpha=1, figsize=(16,12), colormap='coolwarm'):\n",
    "df.plot.scatter(x=x, y=y, c=metric_col, title=metric_col\n",
    ", edgecolors='none', colormap=colormap, marker=marker, alpha=alpha, figsize=figsize);\n",
    "plt.xticks([], []); plt.yticks([], [])"
   ]
  },
  {
   "cell_type": "code",
   "execution_count": null,
   "id": "267e49df",
   "metadata": {},
   "outputs": [],
   "source": [
    "#kring_smoothing\n",
    "k = 2\n",
    "dfcrimes= kring_smoothing(dfcrimeg, hex_col, metric_col='cnt', k=k)\n",
    "print('sum sanity check:', dfcrimes['cnt'].sum() / dfcrimes['cnt'].sum())\n",
    "plot_smooth_scatter(dfcrimes, metric_col='cnt', marker='o')\n",
    "plt.title('Traffic Crashes: 2-ring average')"
   ]
  },
  {
   "cell_type": "markdown",
   "id": "034b9922",
   "metadata": {},
   "source": [
    "## **Day 10: North America**"
   ]
  },
  {
   "cell_type": "markdown",
   "id": "b71206b5",
   "metadata": {},
   "source": [
    "- Data Source:  https://www.kaggle.com/datasets/debdutta/cost-of-living-index-by-country"
   ]
  },
  {
   "cell_type": "code",
   "execution_count": null,
   "id": "97586cd6",
   "metadata": {},
   "outputs": [],
   "source": [
    "df= pd.read_csv(\"/content/Cost_of_living_index.csv\")"
   ]
  },
  {
   "cell_type": "code",
   "execution_count": null,
   "id": "1b63e63b",
   "metadata": {},
   "outputs": [],
   "source": [
    "df.head()"
   ]
  },
  {
   "cell_type": "code",
   "execution_count": null,
   "id": "9b474a6f",
   "metadata": {},
   "outputs": [],
   "source": [
    "# Filtering US and Canada cities\n",
    "filtered_df = df[df['City'].str.contains('United States|Canada')]"
   ]
  },
  {
   "cell_type": "code",
   "execution_count": null,
   "id": "e35beaa6",
   "metadata": {},
   "outputs": [],
   "source": [
    "filtered_df.head()"
   ]
  },
  {
   "cell_type": "code",
   "execution_count": null,
   "id": "c05f063f",
   "metadata": {},
   "outputs": [],
   "source": [
    "# Split the 'City' column to extract only the city names\n",
    "filtered_df['City'] = filtered_df['City'].str.split(',').str[0]\n",
    "# Now, 'City' contains only the city names\""
   ]
  },
  {
   "cell_type": "code",
   "execution_count": null,
   "id": "5674812a",
   "metadata": {},
   "outputs": [],
   "source": [
    "filtered_df.head()"
   ]
  },
  {
   "cell_type": "code",
   "execution_count": null,
   "id": "5ab95fd6",
   "metadata": {},
   "outputs": [],
   "source": [
    "# Read the CSV files containing US and Canadian cities' coordinates\n",
    "us_cities_df = pd.read_csv('/content/uscities.csv')\n",
    "canadian_cities_df = pd.read_csv('/content/canadacities.csv')\n",
    "# Concatenate the two DataFrames to create a single DataFrame with all city coordinates\n",
    "all_cities_df = pd.concat([us_cities_df, canadian_cities_df])\n",
    "# Merge the combined coordinates DataFrame with filtered_df using the 'city_ascii' column as the key\n",
    "merged_df = filtered_df.merge(all_cities_df, left_on='City', right_on='city_ascii', how='left')"
   ]
  },
  {
   "cell_type": "code",
   "execution_count": null,
   "id": "ae598b43",
   "metadata": {},
   "outputs": [],
   "source": [
    "# Drop duplicates in the 'merged_df' based on the 'City' column\n",
    "merged_df = merged_df.drop_duplicates(subset=['City'])"
   ]
  },
  {
   "cell_type": "code",
   "execution_count": null,
   "id": "e269579f",
   "metadata": {},
   "outputs": [],
   "source": [
    "print(merged_df.columns)"
   ]
  },
  {
   "cell_type": "code",
   "execution_count": null,
   "id": "b94c11d2",
   "metadata": {},
   "outputs": [],
   "source": [
    "map_df = merged_df[['City', 'Cost of Living Plus Rent Index', 'lat', 'lng']]"
   ]
  },
  {
   "cell_type": "code",
   "execution_count": null,
   "id": "3224aa3f",
   "metadata": {},
   "outputs": [],
   "source": [
    "map_df.head()"
   ]
  },
  {
   "cell_type": "code",
   "execution_count": null,
   "id": "93232669",
   "metadata": {},
   "outputs": [],
   "source": [
    "# Create a Kepler.gl map\n",
    "map_1 = KeplerGl(height=600, data={\"data\": map_df}, config={})\n",
    "map_1"
   ]
  },
  {
   "cell_type": "markdown",
   "id": "ef1d02f3",
   "metadata": {},
   "source": [
    "## **Day 15: OSM**"
   ]
  },
  {
   "cell_type": "markdown",
   "id": "49d626ee",
   "metadata": {},
   "source": [
    "https://geoffboeing.com/2017/08/isochrone-maps-osmnx-python/\n",
    "\n",
    "https://osmnx.readthedocs.io/en/stable/user-reference.html#osmnx.graph.graph_from_point\n",
    "\n",
    "https://github.com/gboeing/osmnx-examples/blob/main/notebooks/13-isolines-isochrones.ipynb\n",
    "\n",
    "https://wiki.openstreetmap.org/wiki/Map_features"
   ]
  },
  {
   "cell_type": "code",
   "execution_count": null,
   "id": "0289ae59",
   "metadata": {},
   "outputs": [],
   "source": [
    "# configure the place, network type, trip times, and travel speed\n",
    "place = 'Paris, France'\n",
    "network_type = \"walk\"\n",
    "trip_times = [5, 10, 15, 20, 25]  # in minutes\n",
    "travel_speed = 4.5  # walking speed in km/hour"
   ]
  },
  {
   "cell_type": "code",
   "execution_count": null,
   "id": "b56d24df",
   "metadata": {},
   "outputs": [],
   "source": [
    "# download the street network\n",
    "G = ox.graph_from_place(place, network_type=network_type)"
   ]
  },
  {
   "cell_type": "code",
   "execution_count": null,
   "id": "be25dc3e",
   "metadata": {},
   "outputs": [],
   "source": [
    "Y= 48.8606\n",
    "X = 2.3376\n",
    "center_node = ox.distance.nearest_nodes(G, X, Y)\n",
    "G = ox.project_graph(G)"
   ]
  },
  {
   "cell_type": "code",
   "execution_count": null,
   "id": "e096f169",
   "metadata": {},
   "outputs": [],
   "source": [
    "# add an edge attribute for time in minutes required to traverse each edge\n",
    "meters_per_minute = travel_speed * 1000 / 60  # km per hour to m per minute\n",
    "for _, _, _, data in G.edges(data=True, keys=True):\n",
    "data[\"time\"] = data[\"length\"] / meters_per_minute"
   ]
  },
  {
   "cell_type": "code",
   "execution_count": null,
   "id": "34d0613f",
   "metadata": {},
   "outputs": [],
   "source": [
    "# get one color for each isochrone\n",
    "iso_colors = ox.plot.get_colors(n=len(trip_times), cmap=\"plasma\", start=0)#, return_hex=True)"
   ]
  },
  {
   "cell_type": "code",
   "execution_count": null,
   "id": "26357bb1",
   "metadata": {},
   "outputs": [],
   "source": [
    "# color the nodes according to isochrone then plot the street network\n",
    "node_colors = {}\n",
    "for trip_time, color in zip(sorted(trip_times, reverse=True), iso_colors):\n",
    "subgraph = nx.ego_graph(G, center_node, radius=trip_time, distance=\"time\")\n",
    "for node in subgraph.nodes():\n",
    "node_colors[node] = color\n",
    "nc = [node_colors[node] if node in node_colors else \"none\" for node in G.nodes()]\n",
    "ns = [15 if node in node_colors else 0 for node in G.nodes()]\n",
    "fig, ax = ox.plot_graph(\n",
    "G,\n",
    "node_color=nc,\n",
    "node_size=ns,\n",
    "node_alpha=0.8,\n",
    "edge_linewidth=0.2,\n",
    "edge_color=\"#999999\",\n",
    ")"
   ]
  },
  {
   "cell_type": "code",
   "execution_count": null,
   "id": "215e75bb",
   "metadata": {},
   "outputs": [],
   "source": [
    "# make the isochrone polygons\n",
    "isochrone_polys = []\n",
    "for trip_time in sorted(trip_times, reverse=True):\n",
    "subgraph = nx.ego_graph(G, center_node, radius=trip_time, distance=\"time\")\n",
    "node_points = [Point((data[\"x\"], data[\"y\"])) for node, data in subgraph.nodes(data=True)]\n",
    "bounding_poly = gpd.GeoSeries(node_points).unary_union.convex_hull\n",
    "isochrone_polys.append(bounding_poly)\n",
    "gdf = gpd.GeoDataFrame(geometry=isochrone_polys)"
   ]
  },
  {
   "cell_type": "code",
   "execution_count": null,
   "id": "5778661e",
   "metadata": {},
   "outputs": [],
   "source": [
    "# plot the network then add isochrones as colored polygon patches\n",
    "fig, ax = ox.plot_graph(\n",
    "G, show=False, close=False, edge_color=\"#999999\", edge_alpha=0.2, node_size=0\n",
    ")\n",
    "gdf.plot(ax=ax, color=iso_colors, ec=\"none\", alpha=0.6, zorder=-1)\n",
    "plt.show()"
   ]
  },
  {
   "cell_type": "code",
   "execution_count": null,
   "id": "01c3bba5",
   "metadata": {},
   "outputs": [],
   "source": [
    "def make_iso_polys(G, edge_buff=25, node_buff=50, infill=False):\n",
    "isochrone_polys = []\n",
    "for trip_time in sorted(trip_times, reverse=True):\n",
    "subgraph = nx.ego_graph(G, center_node, radius=trip_time, distance=\"time\")\n",
    "node_points = [Point((data[\"x\"], data[\"y\"])) for node, data in subgraph.nodes(data=True)]\n",
    "nodes_gdf = gpd.GeoDataFrame({\"id\": list(subgraph.nodes)}, geometry=node_points)\n",
    "nodes_gdf = nodes_gdf.set_index(\"id\")\n",
    "edge_lines = []\n",
    "for n_fr, n_to in subgraph.edges():\n",
    "f = nodes_gdf.loc[n_fr].geometry\n",
    "t = nodes_gdf.loc[n_to].geometry\n",
    "edge_lookup = G.get_edge_data(n_fr, n_to)[0].get(\"geometry\", LineString([f, t]))\n",
    "edge_lines.append(edge_lookup)\n",
    "n = nodes_gdf.buffer(node_buff).geometry\n",
    "e = gpd.GeoSeries(edge_lines).buffer(edge_buff).geometry\n",
    "all_gs = list(n) + list(e)\n",
    "new_iso = gpd.GeoSeries(all_gs).unary_union\n",
    "# try to fill in surrounded areas so shapes will appear solid and\n",
    "# blocks without white space inside them\n",
    "if infill:\n",
    "new_iso = Polygon(new_iso.exterior)\n",
    "isochrone_polys.append(new_iso)\n",
    "return isochrone_polys"
   ]
  },
  {
   "cell_type": "code",
   "execution_count": null,
   "id": "2173375d",
   "metadata": {},
   "outputs": [],
   "source": [
    "# make the isochrone polygons\n",
    "isochrone_polys = make_iso_polys(G, edge_buff=25, node_buff=0, infill=True)\n",
    "gdf = gpd.GeoDataFrame(geometry=isochrone_polys)\n",
    "# plot the network then add isochrones as colored polygon patches\n",
    "fig, ax = ox.plot_graph(\n",
    "G, show=False, close=False, edge_color=\"#999999\", edge_alpha=0.2, node_size=0)\n",
    "gdf.plot(ax=ax, color=iso_colors, ec=\"none\", alpha=0.6, zorder=-1)\n",
    "plt.show()"
   ]
  },
  {
   "cell_type": "markdown",
   "id": "598cb9f0",
   "metadata": {},
   "source": [
    "## **Day 16: Oceania**"
   ]
  },
  {
   "cell_type": "code",
   "execution_count": null,
   "id": "3b7a79ed",
   "metadata": {},
   "outputs": [],
   "source": [
    "# Define the location (Amsterdam)\n",
    "place_name = \"Auckland, New Zealand\"\n",
    "# Fetch the bike network graph for the specified location\n",
    "#G = ox.graph_from_place(place_name, network_type='walk')#, simplify=False)"
   ]
  },
  {
   "cell_type": "code",
   "execution_count": null,
   "id": "e084a461",
   "metadata": {},
   "outputs": [],
   "source": [
    "gdf= gpd.read_file('https://data-atgis.opendata.arcgis.com/datasets/ATgis::train-station.geojson?outSR=%7B%22latestWkid%22%3A2193%2C%22wkid%22%3A2193%7D')"
   ]
  },
  {
   "cell_type": "code",
   "execution_count": null,
   "id": "202f4085",
   "metadata": {},
   "outputs": [],
   "source": [
    "#gdf['STOPLAT']= gdf['STOPLAT'].astype('float')\n",
    "#gdf['STOPLON']= gdf['STOPLON'].astype('float')"
   ]
  },
  {
   "cell_type": "code",
   "execution_count": null,
   "id": "dd9f6199",
   "metadata": {},
   "outputs": [],
   "source": [
    "gdf= gdf[gdf['STOPLAT']> -37.25]"
   ]
  },
  {
   "cell_type": "code",
   "execution_count": null,
   "id": "2f239046",
   "metadata": {},
   "outputs": [],
   "source": [
    "# Initialize an empty GeoDataFrame to store reachable edges\n",
    "reachable_edges_gdf = gpd.GeoDataFrame()\n",
    "# Iterate over each station\n",
    "for index, station in gdf.iterrows():\n",
    "location = (station['geometry'].y, station['geometry'].x)  # Note the order of lat, lon\n",
    "# Initialize an empty GeoDataFrame for each station\n",
    "station_reachable_edges_gdf = gpd.GeoDataFrame()\n",
    "isochrone_walk_distance = 1125\n",
    "# Calculate the reachable locations within the given time\n",
    "reachable_graph = ox.graph_from_point(location, dist=isochrone_walk_distance, network_type=\"walk\", dist_type='network')\n",
    "# Create a GeoDataFrame from the reachable graph\n",
    "reachable_edge = ox.graph_to_gdfs(reachable_graph, nodes=False, edges=True)\n",
    "# Add the reachable edges to the station-specific GeoDataFrame\n",
    "station_reachable_edges_gdf = pd.concat([station_reachable_edges_gdf, reachable_edge], ignore_index=True)\n",
    "# Add the station-specific GeoDataFrame to the overall GeoDataFrame\n",
    "reachable_edges_gdf = pd.concat([reachable_edges_gdf, station_reachable_edges_gdf], ignore_index=True)"
   ]
  },
  {
   "cell_type": "code",
   "execution_count": null,
   "id": "4682865a",
   "metadata": {},
   "outputs": [],
   "source": [
    "train = gpd.read_file('https://data-atgis.opendata.arcgis.com/datasets/ATgis::train-route.geojson?where=1=1&outSR=%7B%22latestWkid%22%3A2193%2C%22wkid%22%3A2193%7D')"
   ]
  },
  {
   "cell_type": "code",
   "execution_count": null,
   "id": "6118c691",
   "metadata": {},
   "outputs": [],
   "source": [
    "boundry= gpd.read_file('http://data-aucklandcouncil.opendata.arcgis.com/datasets/89052c6dc2634cf987539f3f188ffd76_0.geojson?outSR={%22latestWkid%22:3857,%22wkid%22:102100}')"
   ]
  },
  {
   "cell_type": "markdown",
   "id": "5a5bc95b",
   "metadata": {},
   "source": [
    "- http://data-aucklandcouncil.opendata.arcgis.com/datasets/5d35cbf5ff1c4baa85023c4b4c7de24f_0.geojson?outSR={%22latestWkid%22:3857,%22wkid%22:102100}  https://catalogue.data.govt.nz/dataset/auckland-council-boundary-area  https://catalogue.data.govt.nz/dataset/auckland-council-ward  https://catalogue.data.govt.nz/dataset/auckland-council-subdivision  http://data-aucklandcouncil.opendata.arcgis.com/datasets/89052c6dc2634cf987539f3f188ffd76_0.geojson?outSR={%22latestWkid%22:3857,%22wkid%22:102100}"
   ]
  },
  {
   "cell_type": "code",
   "execution_count": null,
   "id": "e4aa9221",
   "metadata": {},
   "outputs": [],
   "source": [
    "boundry"
   ]
  },
  {
   "cell_type": "code",
   "execution_count": null,
   "id": "47a5c388",
   "metadata": {},
   "outputs": [],
   "source": [
    "boundry.plot()"
   ]
  },
  {
   "cell_type": "code",
   "execution_count": null,
   "id": "0d20fffe",
   "metadata": {},
   "outputs": [],
   "source": [
    "# Define a custom HTML icon with Font Awesome\n",
    "icon_html = '<i class=\"fa-solid fa-train-subway fa-xl\" style=\"color: red;\"></i>'\n",
    "# Coordinates for Paris, France\n",
    "au_coords = [-36.848461, 174.763336]\n",
    "# Plotting\n",
    "m = folium.Map(location=au_coords, zoom_start=14, tiles=\"CartoDB Dark_Matter\")\n",
    "# Define a style function to make the lines thinner\n",
    "def route_function(feature):\n",
    "return {\n",
    "'color': 'orange',  # Line color\n",
    "'weight': 1,      # Line weight\n",
    "}\n",
    "# Define a style function to make the lines thinner\n",
    "def style_function(feature):\n",
    "return {\n",
    "'color': 'green',  # Line color\n",
    "'weight': 0.5,      # Line weight\n",
    "}\n",
    "# Plot the GeoDataFrame on the map with the updated style\n",
    "gdf_layer = folium.GeoJson(train, style_function=route_function).add_to(m)\n",
    "# Plot the GeoDataFrame on the map with the updated style\n",
    "gdf_layer = folium.GeoJson(reachable_edges_gdf, style_function=style_function).add_to(m)\n",
    "# Add stations to the map with custom icons\n",
    "for _, station in gdf.iterrows():\n",
    "latitude, longitude = station['geometry'].y, station['geometry'].x\n",
    "marker = folium.Marker(\n",
    "location=[latitude, longitude],\n",
    "icon=folium.DivIcon(html=icon_html),\n",
    ")\n",
    "marker.add_to(m)\n",
    "# Save the map as an HTML file\n",
    "html_file_path = \"custom_map2.html\"\n",
    "#m.save(html_file_path)\n",
    "m"
   ]
  },
  {
   "cell_type": "markdown",
   "id": "98c1d4e1",
   "metadata": {},
   "source": [
    "## **Day 17: Flow**"
   ]
  },
  {
   "cell_type": "markdown",
   "id": "7a6c754f",
   "metadata": {},
   "source": [
    "- COMMUNITY AREAS"
   ]
  },
  {
   "cell_type": "markdown",
   "id": "56054b14",
   "metadata": {},
   "source": [
    "https://data.cityofchicago.org/api/geospatial/cauq-8yn6?method=export&format=GeoJSON\n",
    "\n",
    "https://data.cityofchicago.org/api/views/igwz-8jzy/rows.csv?accessType=DOWNLOAD"
   ]
  },
  {
   "cell_type": "code",
   "execution_count": null,
   "id": "be60349c",
   "metadata": {},
   "outputs": [],
   "source": [
    "gdf= gpd.read_file('https://data.cityofchicago.org/api/geospatial/cauq-8yn6?method=export&format=GeoJSON')"
   ]
  },
  {
   "cell_type": "code",
   "execution_count": null,
   "id": "eed13f47",
   "metadata": {},
   "outputs": [],
   "source": [
    "df= pd.read_csv('/content/map.csv')"
   ]
  },
  {
   "cell_type": "code",
   "execution_count": null,
   "id": "27aa1d5a",
   "metadata": {},
   "outputs": [],
   "source": [
    "df.head()"
   ]
  },
  {
   "cell_type": "code",
   "execution_count": null,
   "id": "ed273d19",
   "metadata": {},
   "outputs": [],
   "source": [
    "# Create a Kepler.gl map\n",
    "map_1 = KeplerGl(height=600)\n",
    "# Add the GeoDataFrame as a layer\n",
    "map_1.add_data(data=df, name='Acc')\n",
    "map_1.add_data(data=gdf, name='Bound')\n",
    "# Show the map\n",
    "map_1"
   ]
  },
  {
   "cell_type": "markdown",
   "id": "8a77d1a6",
   "metadata": {},
   "source": [
    "## **Day 28: Is this a chart or a map?**"
   ]
  },
  {
   "cell_type": "code",
   "execution_count": null,
   "id": "08825246",
   "metadata": {},
   "outputs": [],
   "source": [
    "query= 'Brisbane, Australia'\n",
    "G = ox.graph_from_place(query, network_type='drive')"
   ]
  },
  {
   "cell_type": "code",
   "execution_count": null,
   "id": "a874494e",
   "metadata": {},
   "outputs": [],
   "source": [
    "Gu= ox.utils_graph.get_undirected(G)"
   ]
  },
  {
   "cell_type": "code",
   "execution_count": null,
   "id": "1e8e9ba7",
   "metadata": {},
   "outputs": [],
   "source": [
    "Gu= ox.bearing.add_edge_bearings(Gu, precision=None)"
   ]
  },
  {
   "cell_type": "code",
   "execution_count": null,
   "id": "9e298c4e",
   "metadata": {},
   "outputs": [],
   "source": [
    "col= ox.plot.get_edge_colors_by_attr(Gu, 'length', num_bins=4, cmap='winter', start=0, stop=100000, na_color='none', equal_size=False)"
   ]
  },
  {
   "cell_type": "code",
   "execution_count": null,
   "id": "f2ba6065",
   "metadata": {},
   "outputs": [],
   "source": [
    "color= ox.plot.get_colors(4, cmap='winter', start=0.0, stop=100.0, alpha=1.0, return_hex=False)"
   ]
  },
  {
   "cell_type": "code",
   "execution_count": null,
   "id": "7ee9fd32",
   "metadata": {},
   "outputs": [],
   "source": [
    "ox.plot.plot_orientation(Gu, num_bins=36, min_length=0, weight='length', ax=None,\n",
    "figsize=(10, 10), area=True, color=col, edgecolor='k',\n",
    "linewidth=0.5, alpha=0.7)"
   ]
  },
  {
   "cell_type": "code",
   "execution_count": null,
   "id": "4f65ee17",
   "metadata": {},
   "outputs": [],
   "source": [
    "# define the study sites as label : query\n",
    "places = {'Darwin'       : 'City of Darwin, Australia',\n",
    "'Townsville'       : 'Townsville, Australia',\n",
    "'Australian Capital Territory'       : 'Australian Capital Territory, Australia',\n",
    "'Hobart'       : 'Hobart, Australia'\n",
    "}"
   ]
  },
  {
   "cell_type": "markdown",
   "id": "7ad2c529",
   "metadata": {},
   "source": [
    "- Get the street networks and their edge bearings"
   ]
  },
  {
   "cell_type": "code",
   "execution_count": null,
   "id": "fe892724",
   "metadata": {},
   "outputs": [],
   "source": [
    "def reverse_bearing(x):\n",
    "return x + 180 if x < 180 else x - 180"
   ]
  },
  {
   "cell_type": "code",
   "execution_count": null,
   "id": "919de6d1",
   "metadata": {},
   "outputs": [],
   "source": [
    "bearings = {}\n",
    "for place in sorted(places.keys()):\n",
    "print(datetime.datetime.now(), place)\n",
    "# get the graph\n",
    "query = places[place]\n",
    "G = ox.graph_from_place(query, network_type='drive')\n",
    "# calculate edge bearings\n",
    "Gu = ox.bearing.add_edge_bearings(ox.utils_graph.get_undirected(G))\n",
    "if weight_by_length:\n",
    "# weight bearings by length (meters)\n",
    "city_bearings = []\n",
    "for u, v, k, d in Gu.edges(keys=True, data=True):\n",
    "bearing = d.get('bearing', None)  # use get method to avoid KeyError\n",
    "if bearing is not None:\n",
    "city_bearings.extend([bearing] * int(d['length']))\n",
    "b = pd.Series(city_bearings)\n",
    "bearings[place] = pd.concat([b, b.map(reverse_bearing)]).reset_index(drop='True')\n",
    "else:\n",
    "# don't weight bearings, just take one value per street segment\n",
    "b = pd.Series([d.get('bearing', None) for u, v, k, d in Gu.edges(keys=True, data=True)])\n",
    "bearings[place] = pd.concat([b, b.map(reverse_bearing)]).reset_index(drop='True')"
   ]
  },
  {
   "cell_type": "markdown",
   "id": "bd93335c",
   "metadata": {},
   "source": [
    "- Visualize it"
   ]
  },
  {
   "cell_type": "code",
   "execution_count": null,
   "id": "53379db9",
   "metadata": {},
   "outputs": [],
   "source": [
    "def count_and_merge(n, bearings):\n",
    "# make twice as many bins as desired, then merge them in pairs\n",
    "# prevents bin-edge effects around common values like 0° and 90°\n",
    "n = 36 * 2\n",
    "bins = np.arange(n + 1) * 360 / n\n",
    "count, _ = np.histogram(bearings, bins=bins)\n",
    "# move the last bin to the front, so eg 0.01° and 359.99° will be binned together\n",
    "count = np.roll(count, 1)\n",
    "return count[::2] + count[1::2]"
   ]
  },
  {
   "cell_type": "code",
   "execution_count": null,
   "id": "bdd066ae",
   "metadata": {},
   "outputs": [],
   "source": [
    "# function to draw a polar histogram for a set of edge bearings\n",
    "def polar_plot(ax, bearings, n=36, title=''):\n",
    "bins = np.arange(n + 1) * 360 / n\n",
    "count = count_and_merge(n, bearings)\n",
    "_, division = np.histogram(bearings, bins=bins)\n",
    "frequency = count / count.sum()\n",
    "division = division[0:-1]\n",
    "width =  2 * np.pi / n\n",
    "ax.set_theta_zero_location('N')\n",
    "ax.set_theta_direction('clockwise')\n",
    "x = division * np.pi / 180\n",
    "cmap = plt.get_cmap('winter')\n",
    "norm = plt.Normalize(0, frequency.max())\n",
    "colors = cmap(norm(frequency))\n",
    "bars = ax.bar(x, height=frequency, width=width, align='center', bottom=0, zorder=2,\n",
    "color=colors, edgecolor='k', linewidth=0.5, alpha=0.7)\n",
    "ax.set_ylim(top=frequency.max())\n",
    "title_font = {'family':'Century Gothic', 'size':24, 'weight':'bold'}\n",
    "xtick_font = {'family':'Century Gothic', 'size':10, 'weight':'bold', 'alpha':1.0, 'zorder':3}\n",
    "ytick_font = {'family':'Century Gothic', 'size': 9, 'weight':'bold', 'alpha':0.2, 'zorder':3}\n",
    "ax.set_title(title.upper(), y=1.05, fontdict=title_font)\n",
    "ax.set_yticks(np.linspace(0, max(ax.get_ylim()), 5))\n",
    "yticklabels = ['{:.2f}'.format(y) for y in ax.get_yticks()]\n",
    "yticklabels[0] = ''\n",
    "ax.set_yticklabels(labels=yticklabels, fontdict=ytick_font)\n",
    "xticklabels = ['N', '', 'E', '', 'S', '', 'W', '']\n",
    "ax.set_xticklabels(labels=xticklabels, fontdict=xtick_font)\n",
    "ax.tick_params(axis='x', which='major', pad=-2)"
   ]
  },
  {
   "cell_type": "code",
   "execution_count": null,
   "id": "757a4f77",
   "metadata": {},
   "outputs": [],
   "source": [
    "# create figure and axes\n",
    "n = len(places)\n",
    "ncols = int(np.ceil(np.sqrt(n)))\n",
    "nrows = int(np.ceil(n / ncols))\n",
    "figsize = (ncols * 5, nrows * 5)\n",
    "fig, axes = plt.subplots(nrows, ncols, figsize=figsize, subplot_kw={'projection':'polar'})\n",
    "# plot each city's polar histogram\n",
    "for ax, place in zip(axes.flat, sorted(places.keys())):\n",
    "polar_plot(ax, bearings[place].dropna(), title=place)\n",
    "# add super title and save full image\n",
    "suptitle_font = {'family':'Century Gothic', 'fontsize':60, 'fontweight':'normal', 'y':1.07}\n",
    "fig.suptitle('City Street Network Orientation', **suptitle_font)\n",
    "fig.tight_layout()\n",
    "fig.subplots_adjust(hspace=0.35)\n",
    "#fig.savefig('/content/street-orientationnn.png', dpi=300, bbox_inches='tight')\n",
    "#plt.close()\n",
    "plt.show()"
   ]
  },
  {
   "cell_type": "code",
   "execution_count": null,
   "id": "4063e9a3",
   "metadata": {},
   "outputs": [],
   "source": [
    "# City coordinates (latitude, longitude)\n",
    "cities = {\n",
    "'Adelaide': (-34.9285, 138.6007),\n",
    "'Brisbane': (-27.4698, 153.0251),\n",
    "'Melbourne': (-37.8136, 144.9631),\n",
    "'Perth': (-31.9505, 115.8605),\n",
    "'Sydney': (-33.8688, 151.2093),\n",
    "'Canberra': (-35.2820, 149.1287),\n",
    "'Hobart': (-42.8821, 147.3272),\n",
    "'Townsville': (-19.2576, 146.8183),\n",
    "'Darwin': (-12.4634, 130.8456)\n",
    "}\n",
    "# Path to the images\n",
    "image_paths = {\n",
    "'Adelaide': '/content/Adelaide.png',\n",
    "'Brisbane': '/content/brisbane.png',\n",
    "'Melbourne': '/content/melbourne.png',\n",
    "'Perth': '/content/perth.png',\n",
    "'Sydney': '/content/sydney.png',\n",
    "'Canberra': '/content/canberra.png',\n",
    "'Hobart': '/content/hobart.png',\n",
    "'Townsville': '/content/townswille.png',\n",
    "'Darwin': '/content/darwin.png'\n",
    "}\n",
    "# Create a folium map with CartoDB Dark Matter as the base map\n",
    "australia_map = folium.Map(location=[-25.2744, 133.7751], zoom_start=4, tiles='cartodb dark_matter')\n",
    "# Add markers for each city\n",
    "for city, (lat, lon) in cities.items():\n",
    "# Create a folium marker for each city\n",
    "marker = folium.Marker(location=(lat, lon), popup=city)\n",
    "# Add the city image to the marker icon\n",
    "icon = folium.CustomIcon(icon_image=image_paths[city], icon_size=(50, 50))\n",
    "marker.add_child(icon)\n",
    "# Add the marker to the map\n",
    "australia_map.add_child(marker)\n",
    "# Display the map\n",
    "australia_map"
   ]
  },
  {
   "cell_type": "markdown",
   "id": "f6f84179",
   "metadata": {},
   "source": [
    "## **Day 30: My Favorite**"
   ]
  },
  {
   "cell_type": "code",
   "execution_count": null,
   "id": "c089331e",
   "metadata": {},
   "outputs": [],
   "source": [
    "# configure the place, network type, trip times, and travel speed\n",
    "place = 'Amsterdam, Netherlands'\n",
    "network_type = \"walk\"\n",
    "trip_times = [5, 10, 15]  # in minutes\n",
    "travel_speed = 4.5  # walking speed in km/hour"
   ]
  },
  {
   "cell_type": "code",
   "execution_count": null,
   "id": "90a9ae4a",
   "metadata": {},
   "outputs": [],
   "source": [
    "# download the street network\n",
    "G = ox.graph_from_place(place, network_type=network_type, simplify=False)"
   ]
  },
  {
   "cell_type": "code",
   "execution_count": null,
   "id": "5dbcdcdb",
   "metadata": {},
   "outputs": [],
   "source": [
    "# Download bicycle_rental data\n",
    "bc= ox.features.features_from_place(place, tags={'amenity':'bicycle_rental'})"
   ]
  },
  {
   "cell_type": "code",
   "execution_count": null,
   "id": "3754394b",
   "metadata": {},
   "outputs": [],
   "source": [
    "points= bc.reset_index()"
   ]
  },
  {
   "cell_type": "code",
   "execution_count": null,
   "id": "0e7db3e4",
   "metadata": {},
   "outputs": [],
   "source": [
    "# Filter only the points\n",
    "#points = bc[bc['geometry'].type == 'Point']"
   ]
  },
  {
   "cell_type": "code",
   "execution_count": null,
   "id": "8061234c",
   "metadata": {},
   "outputs": [],
   "source": [
    "# Filter only the points\n",
    "points= points[points['element_type']=='node']"
   ]
  },
  {
   "cell_type": "code",
   "execution_count": null,
   "id": "e22491a6",
   "metadata": {},
   "outputs": [],
   "source": [
    "# Get the nearest node\n",
    "center_node=[]\n",
    "for point in points.geometry:\n",
    "X= point.x\n",
    "Y= point.y\n",
    "node = ox.distance.nearest_nodes(G, X, Y)\n",
    "center_node.append(node)"
   ]
  },
  {
   "cell_type": "code",
   "execution_count": null,
   "id": "e0d4a6dd",
   "metadata": {},
   "outputs": [],
   "source": [
    "# Project graph\n",
    "G = ox.project_graph(G)"
   ]
  },
  {
   "cell_type": "code",
   "execution_count": null,
   "id": "10dfbead",
   "metadata": {},
   "outputs": [],
   "source": [
    "# Add an edge attribute for time in minutes required to traverse each edge\n",
    "meters_per_minute = (travel_speed * 1000) / 60  # km per hour to m per minute\n",
    "for _, _, _, data in G.edges(data=True, keys=True):\n",
    "data[\"time\"] = data[\"length\"] / meters_per_minute"
   ]
  },
  {
   "cell_type": "code",
   "execution_count": null,
   "id": "86e1310f",
   "metadata": {},
   "outputs": [],
   "source": [
    "# get one color for each isochrone\n",
    "iso_colors = ox.plot.get_colors(n=len(trip_times), cmap=\"winter\", start=0, return_hex=True)"
   ]
  },
  {
   "cell_type": "code",
   "execution_count": null,
   "id": "7649e979",
   "metadata": {},
   "outputs": [],
   "source": [
    "# color the nodes according to isochrone then plot the street network\n",
    "node_colors = {}\n",
    "for n_c in center_node:\n",
    "for trip_time, color in zip(sorted(trip_times, reverse=True), iso_colors):\n",
    "subgraph = nx.ego_graph(G, n_c, radius=trip_time, distance=\"time\")\n",
    "for node in subgraph.nodes():\n",
    "node_colors[node] = color\n",
    "nc = [node_colors[node] if node in node_colors else \"none\" for node in G.nodes()]\n",
    "ns = [10 if node in node_colors else 0 for node in G.nodes()]\n",
    "fig, ax = ox.plot_graph(\n",
    "G,\n",
    "node_color=nc,\n",
    "node_size=ns,\n",
    "node_alpha=0.8,\n",
    "edge_linewidth=0.2,\n",
    "edge_color=\"#999999\",\n",
    ")"
   ]
  },
  {
   "cell_type": "code",
   "execution_count": null,
   "id": "29a092df",
   "metadata": {},
   "outputs": [],
   "source": [
    "# make the isochrone polygons\n",
    "isochrone_polys = []\n",
    "isochrone_colors = []\n",
    "isochrone_times = []\n",
    "for n_c in center_node:\n",
    "for trip_time, color in zip(sorted(trip_times, reverse=True), iso_colors):\n",
    "subgraph = nx.ego_graph(G, n_c, radius=trip_time, distance=\"time\")\n",
    "node_points = [Point((data[\"x\"], data[\"y\"])) for node, data in subgraph.nodes(data=True)]\n",
    "bounding_poly = gpd.GeoSeries(node_points).unary_union.convex_hull\n",
    "isochrone_polys.append(bounding_poly)\n",
    "isochrone_colors.append(color)\n",
    "isochrone_times.append(trip_time)\n",
    "# create a GeoDataFrame with isochrone polygons and colors\n",
    "gdf = gpd.GeoDataFrame(geometry=isochrone_polys)\n",
    "gdf['time'] = isochrone_times\n",
    "gdf['color'] = isochrone_colors\n",
    "# sort GeoDataFrame based on time\n",
    "gdf = gdf.sort_values(by='time', ascending=False)"
   ]
  },
  {
   "cell_type": "code",
   "execution_count": null,
   "id": "f3dece1f",
   "metadata": {},
   "outputs": [],
   "source": [
    "# plot the network then add isochrones as colored polygon patches\n",
    "fig, ax = ox.plot_graph(\n",
    "G, show=False, close=False, edge_color=\"#999999\", edge_alpha=0.2, node_size=0\n",
    ")\n",
    "gdf.plot(ax=ax, color=gdf['color'], ec=\"none\", alpha=0.6, zorder=-1)\n",
    "plt.show()"
   ]
  },
  {
   "cell_type": "code",
   "execution_count": null,
   "id": "e3cd0a5e",
   "metadata": {},
   "outputs": [],
   "source": [
    "def make_iso_polys(G, center_nodes, edge_buff=25, node_buff=50, infill=False):\n",
    "isochrone_polys = []\n",
    "isochrone_times = []\n",
    "isochrone_colors = []\n",
    "for center_node in center_nodes:\n",
    "for trip_time, color in zip(sorted(trip_times, reverse=True), iso_colors):\n",
    "subgraph = nx.ego_graph(G, center_node, radius=trip_time, distance=\"time\")\n",
    "node_points = [Point((data[\"x\"], data[\"y\"])) for node, data in subgraph.nodes(data=True)]\n",
    "nodes_gdf = gpd.GeoDataFrame({\"id\": list(subgraph.nodes)}, geometry=node_points)\n",
    "nodes_gdf = nodes_gdf.set_index(\"id\")\n",
    "edge_lines = []\n",
    "for n_fr, n_to in subgraph.edges():\n",
    "f = nodes_gdf.loc[n_fr].geometry\n",
    "t = nodes_gdf.loc[n_to].geometry\n",
    "edge_lookup = G.get_edge_data(n_fr, n_to)[0].get(\"geometry\", LineString([f, t]))\n",
    "edge_lines.append(edge_lookup)\n",
    "n = nodes_gdf.buffer(node_buff).geometry\n",
    "e = gpd.GeoSeries(edge_lines).buffer(edge_buff).geometry\n",
    "all_gs = list(n) + list(e)\n",
    "new_iso = gpd.GeoSeries(all_gs).unary_union\n",
    "# try to fill in surrounded areas so shapes will appear solid and\n",
    "# blocks without white space inside them\n",
    "if infill:\n",
    "new_iso = Polygon(new_iso.exterior)\n",
    "isochrone_polys.append(new_iso)\n",
    "isochrone_times.append(trip_time)\n",
    "isochrone_colors.append(color)\n",
    "gdf = gpd.GeoDataFrame(geometry=isochrone_polys)\n",
    "gdf['time'] = isochrone_times\n",
    "gdf['color'] = isochrone_colors\n",
    "return gdf"
   ]
  },
  {
   "cell_type": "code",
   "execution_count": null,
   "id": "ea208574",
   "metadata": {},
   "outputs": [],
   "source": [
    "# make the isochrone polygons\n",
    "gdf = make_iso_polys(G, center_nodes=center_node, edge_buff=25, node_buff=0, infill=True)"
   ]
  },
  {
   "cell_type": "code",
   "execution_count": null,
   "id": "10a1a75a",
   "metadata": {},
   "outputs": [],
   "source": [
    "# sort GeoDataFrame based on time\n",
    "gdf = gdf.sort_values(by='time', ascending=False)"
   ]
  },
  {
   "cell_type": "code",
   "execution_count": null,
   "id": "9356dc48",
   "metadata": {},
   "outputs": [],
   "source": [
    "# plot the network then add isochrones as colored polygon patches\n",
    "fig, ax = ox.plot_graph(\n",
    "G, show=False, close=False, edge_color=\"#999999\", edge_alpha=0.2, node_size=0\n",
    ")\n",
    "gdf.plot(ax=ax, color=gdf['color'], ec=\"none\", alpha=0.6, zorder=-1)\n",
    "plt.show()"
   ]
  },
  {
   "cell_type": "code",
   "execution_count": null,
   "id": "cb1d5207",
   "metadata": {},
   "outputs": [],
   "source": [
    "# Create a GeoDataFrame from the city graph\n",
    "amsterdam = ox.graph_to_gdfs(G, nodes=False, edges=True)"
   ]
  },
  {
   "cell_type": "code",
   "execution_count": null,
   "id": "b2802970",
   "metadata": {},
   "outputs": [],
   "source": [
    "# Export GeoDataFrame to a Shapefile\n",
    "output_shapefile_path = 'amsterdam.shp'\n",
    "amsterdam.to_file(output_shapefile_path, driver='ESRI Shapefile')\n",
    "# Display the path to the exported Shapefile\n",
    "print(f\"GeoDataFrame exported to: {output_shapefile_path}\")"
   ]
  },
  {
   "cell_type": "code",
   "execution_count": null,
   "id": "61691ea2",
   "metadata": {},
   "outputs": [],
   "source": [
    "# Export GeoDataFrame to a Shapefile\n",
    "output_shapefile_path = 'isochrones.shp'\n",
    "gdf.to_file(output_shapefile_path, driver='ESRI Shapefile')\n",
    "# Display the path to the exported Shapefile\n",
    "print(f\"GeoDataFrame exported to: {output_shapefile_path}\")"
   ]
  },
  {
   "cell_type": "code",
   "execution_count": null,
   "id": "9ad4f150",
   "metadata": {},
   "outputs": [],
   "source": [
    "# Export GeoDataFrame to a Shapefile\n",
    "output_shapefile_path = 'points.shp'\n",
    "points.to_file(output_shapefile_path, driver='ESRI Shapefile')\n",
    "# Display the path to the exported Shapefile\n",
    "print(f\"GeoDataFrame exported to: {output_shapefile_path}\")"
   ]
  },
  {
   "cell_type": "code",
   "execution_count": null,
   "id": "f19816f8",
   "metadata": {},
   "outputs": [],
   "source": [
    "gdf.crs = 'EPSG:4326'"
   ]
  },
  {
   "cell_type": "code",
   "execution_count": null,
   "id": "88ffc76c",
   "metadata": {},
   "outputs": [],
   "source": [
    "# Plot the GeoDataFrame\n",
    "ax = gdf.plot(figsize=(20, 20), color=gdf['color'], edgecolor=\"none\", alpha=0.6, zorder=-1)\n",
    "amsterdam.plot(color='grey', linewidth=0.1, ax=ax)\n",
    "# Create a colorbar legend\n",
    "cbar = plt.colorbar(plt.cm.ScalarMappable(cmap='YlOrRd'), ax=ax, orientation='vertical', fraction=0.03, pad=0.02)\n",
    "cbar.set_label('Walking Minutes')  # Replace 'Your Legend Label' with an appropriate label for your legend\n",
    "# Save the plot in 300 DPI\n",
    "plt.savefig('iso.png', dpi=300)\n",
    "# Show the plot\n",
    "plt.show()"
   ]
  }
 ],
 "metadata": {
  "language_info": {
   "name": "python"
  }
 },
 "nbformat": 4,
 "nbformat_minor": 5
}
